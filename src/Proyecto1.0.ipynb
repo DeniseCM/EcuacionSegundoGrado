{
 "cells": [
  {
   "cell_type": "markdown",
   "id": "9732ae1d",
   "metadata": {},
   "source": [
    "# PROGRAMA PARA RESOLVER ECUACIONES DE SEGUNDO GRADO"
   ]
  },
  {
   "cell_type": "markdown",
   "id": "cfcb0971",
   "metadata": {},
   "source": [
    "### Mi proyecto esta basado en Matemáticas ll: Unidad 1. Ecuaciones cuadráticas."
   ]
  },
  {
   "cell_type": "markdown",
   "id": "93c3799f",
   "metadata": {},
   "source": [
    "## Propósito:\n",
    "#### Al finalizar, el alumno:\n",
    "#### Resolverá ecuaciones cuadráticas mediante diversos métodos de solución. Modelará problemas que conduzcan a este tipo de ecuaciones.\n",
    "#### Establecerá la relación que existe entre el grado de la ecuación y el número de soluciones."
   ]
  },
  {
   "cell_type": "markdown",
   "id": "2c508dd0",
   "metadata": {},
   "source": [
    "### Aprendizaje: Identifica la naturaleza de las raíces de una ecuación cuadrática, a partir de sus coeficientes."
   ]
  },
  {
   "cell_type": "code",
   "execution_count": 1,
   "id": "bdcf8fff",
   "metadata": {},
   "outputs": [],
   "source": [
    "import math\n",
    "import matplotlib.pyplot as plt\n",
    "import numpy as np"
   ]
  },
  {
   "cell_type": "code",
   "execution_count": 2,
   "id": "557c10f9",
   "metadata": {},
   "outputs": [],
   "source": [
    "def ecuacion_segundo_grado(a, b, c):\n",
    "    discrim = b**2 - 4*a*c\n",
    "    if discrim > 0: #raices reales diferentes\n",
    "        x1 = (-b + math.sqrt(discrim)) / (2*a)\n",
    "        x2 = (-b - math.sqrt(discrim)) / (2*a)\n",
    "        return x1, x2\n",
    "    elif discrim == 0: #raíz reales repetidas\n",
    "        x = -b / (2*a)\n",
    "        return x, x\n",
    "    else: #raíz compleja\n",
    "        parte_real = -b / (2*a)\n",
    "        parte_imag = math.sqrt(abs(discriminante)) / (2*a)\n",
    "        x1 = complex(parte_real, parte_imag)\n",
    "        x2 = complex(parte_real, -parte_imag)\n",
    "        return x1, x2"
   ]
  },
  {
   "cell_type": "code",
   "execution_count": 3,
   "id": "e668d3ea",
   "metadata": {},
   "outputs": [],
   "source": [
    "def pasos_ecuacion(a, b, c):\n",
    "    print(\"Resolviendo la ecuación ax^2 + bx + c = 0\")\n",
    "    print(\"Paso 1: Calculando el discriminante\")\n",
    "    discrim = b**2 - 4*a*c\n",
    "    print(\"Discriminante = {discrim}\")\n",
    "    \n",
    "    if discrim > 0:\n",
    "        print(\"Paso 2: El discriminante es mayor que 0, hay dos raíces reales y distintas\")\n",
    "        x1 = (-b + math.sqrt(discrim)) / (2*a)\n",
    "        x2 = (-b - math.sqrt(discrim)) / (2*a)\n",
    "        print(\"Las raíces son x1 = {x1} y x2 = {x2}\")\n",
    "    elif discrim == 0:\n",
    "        print(\"Paso 2: El discriminante es igual a 0, hay una raíz real repetida\")\n",
    "        x = -b / (2*a)\n",
    "        print(\"La raíz repetida es x = {x}\")\n",
    "    else:\n",
    "        print(\"Paso 2: El discriminante es menor que 0, hay dos raíces complejas (no reales)\")\n",
    "        parte_real = -b / (2*a)\n",
    "        parte_imag = math.sqrt(abs(discrim)) / (2*a)\n",
    "        x1 = complex(parte_real, parte_imag)\n",
    "        x2 = complex(parte_real, -parte_imag)\n",
    "        print(\"Las raíces complejas son x1 = {x1} y x2 = {x2}\")"
   ]
  },
  {
   "cell_type": "code",
   "execution_count": 4,
   "id": "83f59eec",
   "metadata": {},
   "outputs": [
    {
     "name": "stdout",
     "output_type": "stream",
     "text": [
      "Ingrese el valor de a:1\n",
      "Ingrese el valor de b:-9\n",
      "Ingrese el valor de c:3\n"
     ]
    }
   ],
   "source": [
    "# Introducir valores para a, b y c\n",
    "a = float(input(\"Ingrese el valor de a:\"))\n",
    "b = float(input(\"Ingrese el valor de b:\"))\n",
    "c = float(input(\"Ingrese el valor de c:\"))"
   ]
  },
  {
   "cell_type": "code",
   "execution_count": 5,
   "id": "d4dea72d",
   "metadata": {},
   "outputs": [
    {
     "name": "stdout",
     "output_type": "stream",
     "text": [
      "Resolviendo la ecuación ax^2 + bx + c = 0\n",
      "Paso 1: Calculando el discriminante\n",
      "Discriminante = {discrim}\n",
      "Paso 2: El discriminante es mayor que 0, hay dos raíces reales y distintas\n",
      "Las raíces son x1 = {x1} y x2 = {x2}\n"
     ]
    }
   ],
   "source": [
    "# Solución paso a paso\n",
    "pasos_ecuacion(a, b, c)"
   ]
  },
  {
   "cell_type": "code",
   "execution_count": 6,
   "id": "a013fbe6",
   "metadata": {},
   "outputs": [
    {
     "name": "stdout",
     "output_type": "stream",
     "text": [
      "Las raíces son:\n",
      "x1 = 8.653311931459037\n",
      "x2 = 0.34668806854096257\n"
     ]
    }
   ],
   "source": [
    "# Calcular las raíces\n",
    "x1, x2 = ecuacion_segundo_grado(a, b, c)\n",
    "print(\"Las raíces son:\")\n",
    "print(\"x1 =\", x1)\n",
    "print(\"x2 =\", x2)"
   ]
  },
  {
   "cell_type": "code",
   "execution_count": 16,
   "id": "85fee0c4",
   "metadata": {},
   "outputs": [
    {
     "data": {
      "image/png": "[encoded data removed]",
      "text/plain": [
       "<Figure size 640x480 with 1 Axes>"
      ]
     },
     "metadata": {},
     "output_type": "display_data"
    }
   ],
   "source": [
    "# Graficar la parábola\n",
    "x = np.linspace(-10, 10, 100)\n",
    "y = a * x**2 + b * x + c\n",
    "\n",
    "plt.plot(x, y, label=f\"{a}x^2 + {b}x + {c} = 0\")\n",
    "plt.axhline(y=0, color='red', linewidth=1)\n",
    "plt.axvline(x=0, color='red', linewidth=1)\n",
    "plt.legend()\n",
    "plt.xlabel(\"x\")\n",
    "plt.ylabel(\"y\")\n",
    "plt.title(\"Parábola\")\n",
    "plt.grid(True)\n",
    "plt.show()"
   ]
  },
  {
   "cell_type": "code",
   "execution_count": null,
   "id": "6bc9dc8f",
   "metadata": {},
   "outputs": [],
   "source": []
  }
 ],
 "metadata": {
  "kernelspec": {
   "display_name": "Python 3 (ipykernel)",
   "language": "python",
   "name": "python3"
  },
  "language_info": {
   "codemirror_mode": {
    "name": "ipython",
    "version": 3
   },
   "file_extension": ".py",
   "mimetype": "text/x-python",
   "name": "python",
   "nbconvert_exporter": "python",
   "pygments_lexer": "ipython3",
   "version": "3.10.9"
  }
 },
 "nbformat": 4,
 "nbformat_minor": 5
}
